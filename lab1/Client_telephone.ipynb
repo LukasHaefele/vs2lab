{
 "cells": [
  {
   "cell_type": "code",
   "execution_count": null,
   "id": "44c2a65a-891a-4a88-bcac-403a254bb579",
   "metadata": {},
   "outputs": [],
   "source": [
    "import clientserverTelefon # import from our script\n",
    "\n",
    "client = clientserverTelefon.Client() # Create a client instance\n",
    "\n",
    "client.getAll()"
   ]
  },
  {
   "cell_type": "code",
   "execution_count": null,
   "id": "f72a8bec-2c81-47f0-a97f-56f1af15b838",
   "metadata": {},
   "outputs": [],
   "source": [
    "import clientserverTelefon # import from our script\n",
    "\n",
    "client = clientserverTelefon.Client() # Create a client instance\n",
    "client.get(\"Alice\")"
   ]
  }
 ],
 "metadata": {
  "kernelspec": {
   "display_name": "Python 3 (ipykernel)",
   "language": "python",
   "name": "python3"
  },
  "language_info": {
   "codemirror_mode": {
    "name": "ipython",
    "version": 3
   },
   "file_extension": ".py",
   "mimetype": "text/x-python",
   "name": "python",
   "nbconvert_exporter": "python",
   "pygments_lexer": "ipython3",
   "version": "3.11.4"
  }
 },
 "nbformat": 4,
 "nbformat_minor": 5
}
